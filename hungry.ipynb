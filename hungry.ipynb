{
 "cells": [
  {
   "cell_type": "code",
   "execution_count": 3,
   "metadata": {},
   "outputs": [
    {
     "name": "stdout",
     "output_type": "stream",
     "text": [
      "water\n"
     ]
    }
   ],
   "source": [
    "hungry = input('are you hungry')\n",
    "if hungry =='yes':\n",
    "    print('eat samosa')\n",
    "    print('eat pizza')\n",
    "else:\n",
    "    thirsty = input('are you hungry')\n",
    "    if thirsty =='yes':\n",
    "        print('water')\n",
    "    \n"
   ]
  }
 ],
 "metadata": {
  "kernelspec": {
   "display_name": "Python 3.9.7 ('base': conda)",
   "language": "python",
   "name": "python3"
  },
  "language_info": {
   "codemirror_mode": {
    "name": "ipython",
    "version": 3
   },
   "file_extension": ".py",
   "mimetype": "text/x-python",
   "name": "python",
   "nbconvert_exporter": "python",
   "pygments_lexer": "ipython3",
   "version": "3.9.7"
  },
  "orig_nbformat": 4,
  "vscode": {
   "interpreter": {
    "hash": "79b267b7fc78b6000071e72bbf77657515b8570774b82d2896135b4d9ecb257c"
   }
  }
 },
 "nbformat": 4,
 "nbformat_minor": 2
}
