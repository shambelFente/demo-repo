{
 "cells": [
  {
   "cell_type": "code",
<<<<<<< HEAD
   "execution_count": 5,
=======
   "execution_count": 4,
>>>>>>> thirsty
   "metadata": {},
   "outputs": [
    {
     "name": "stdout",
     "output_type": "stream",
     "text": [
<<<<<<< HEAD
      "i am hungry\n",
      "eat samosa\n",
      "eat pizza\n",
      "eat burger\n",
      "eat fries\n"
=======
      "eat samosa\n"
>>>>>>> thirsty
     ]
    }
   ],
   "source": [
    "hungry = input('are you hungry')\n",
    "if hungry =='yes':\n",
    "    print('eat samosa')\n",
    "    print('eat pizza')\n",
    "    print('eat burger')\n",
    "    print('eat fries')\n",
    "else:\n",
    "    thirsty = input('are you thirsty')\n",
    "    if thirsty=='yes':\n",
    "        print('drink water')\n",
    "        print('soda water')\n"
   ]
  }
 ],
 "metadata": {
  "kernelspec": {
   "display_name": "Python 3.9.7 ('base': conda)",
   "language": "python",
   "name": "python3"
  },
  "language_info": {
   "codemirror_mode": {
    "name": "ipython",
    "version": 3
   },
   "file_extension": ".py",
   "mimetype": "text/x-python",
   "name": "python",
   "nbconvert_exporter": "python",
   "pygments_lexer": "ipython3",
   "version": "3.9.7"
  },
  "orig_nbformat": 4,
  "vscode": {
   "interpreter": {
    "hash": "79b267b7fc78b6000071e72bbf77657515b8570774b82d2896135b4d9ecb257c"
   }
  }
 },
 "nbformat": 4,
 "nbformat_minor": 2
}
